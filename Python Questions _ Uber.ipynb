{
 "cells": [
  {
   "cell_type": "code",
   "execution_count": 1,
   "metadata": {},
   "outputs": [],
   "source": [
    "import numpy as np\n",
    "import pandas as pd"
   ]
  },
  {
   "cell_type": "markdown",
   "metadata": {},
   "source": [
    "## read a file and print its lines"
   ]
  },
  {
   "cell_type": "code",
   "execution_count": 6,
   "metadata": {},
   "outputs": [
    {
     "name": "stdout",
     "output_type": "stream",
     "text": [
      "Using while loop\n",
      "\n",
      "Line1: Python is an interpreted high-level general-purpose\n",
      "Line2: programming language. Its design philosophy emphasizes\n",
      "Line3: code readability with its use of significant indentation.\n",
      "Line4: Its language constructs as well as its object-oriented\n",
      "Line5: approach aim to help programmers write clear, logical\n",
      "Line6: code for small and large-scale\n",
      "Line7: projects.\n"
     ]
    }
   ],
   "source": [
    "#create a file in the name of 'python' in notepad.write some lines and save the file in the same folder \n",
    "#where you are saving this notepad.\n",
    "myfile = open('python.txt', 'r')\n",
    "count = 0\n",
    " \n",
    "# Using while loop\n",
    "print(\"Using while loop\\n\") \n",
    "while True:\n",
    "    count += 1\n",
    " \n",
    "    # Get next line from file\n",
    "    line = myfile.readline()\n",
    " \n",
    "    # if line is empty\n",
    "    # end of file is reached\n",
    "    if not line:\n",
    "        break\n",
    "    print(\"Line{}: {}\".format(count, line.strip()))\n",
    "myfile.close()"
   ]
  },
  {
   "cell_type": "code",
   "execution_count": 7,
   "metadata": {},
   "outputs": [
    {
     "name": "stdout",
     "output_type": "stream",
     "text": [
      "Using for loop\n",
      "\n",
      "Line1: Python is an interpreted high-level general-purpose\n",
      "Line2: programming language. Its design philosophy emphasizes\n",
      "Line3: code readability with its use of significant indentation.\n",
      "Line4: Its language constructs as well as its object-oriented\n",
      "Line5: approach aim to help programmers write clear, logical\n",
      "Line6: code for small and large-scale\n",
      "Line7: projects.\n"
     ]
    }
   ],
   "source": [
    "myfile = open('python.txt', 'r')\n",
    "count = 0\n",
    " \n",
    "# Using for loop\n",
    "print(\"Using for loop\\n\")\n",
    "\n",
    "for line in myfile :\n",
    "    count += 1\n",
    "    print(\"Line{}: {}\".format(count, line.strip()))\n",
    "#Closing files\n",
    "myfile.close()"
   ]
  },
  {
   "cell_type": "code",
   "execution_count": 9,
   "metadata": {},
   "outputs": [
    {
     "name": "stdout",
     "output_type": "stream",
     "text": [
      "Using readline\n",
      "\n",
      "Line15: Python is an interpreted high-level general-purpose\n",
      "Line16: programming language. Its design philosophy emphasizes\n",
      "Line17: code readability with its use of significant indentation.\n",
      "Line18: Its language constructs as well as its object-oriented\n",
      "Line19: approach aim to help programmers write clear, logical\n",
      "Line20: code for small and large-scale\n",
      "Line21: projects.\n"
     ]
    }
   ],
   "source": [
    "# Using readline\n",
    "print(\"Using readline\\n\")\n",
    "\n",
    "with open(\"python.txt\") as fp:\n",
    "    while True:\n",
    "        count += 1\n",
    "        line = fp.readline()\n",
    " \n",
    "        if not line:\n",
    "            break\n",
    "        print(\"Line{}: {}\".format(count, line.strip()))"
   ]
  },
  {
   "cell_type": "markdown",
   "metadata": {},
   "source": [
    "## reverse an array without using the in built functions"
   ]
  },
  {
   "cell_type": "code",
   "execution_count": 14,
   "metadata": {},
   "outputs": [
    {
     "name": "stdout",
     "output_type": "stream",
     "text": [
      "The Original array is :\t [1, 2, 3, 4, 5, 6, 7, 8, 9, 10]\n",
      "\n",
      "The Reversed array is :\t [10, 9, 8, 7, 6, 5, 4, 3, 2, 1]\n"
     ]
    }
   ],
   "source": [
    "def reverse_list(arr): \n",
    "    return arr[::-1]\n",
    "\n",
    "before_reverse = [1,2,3,4,5,6,7,8,9,10]\n",
    "print('The Original array is :\\t',before_reverse)\n",
    "\n",
    "reversed_arr = reverse_list(before_reverse )\n",
    "print('\\nThe Reversed array is :\\t',reversed_arr)"
   ]
  },
  {
   "cell_type": "code",
   "execution_count": 20,
   "metadata": {},
   "outputs": [
    {
     "name": "stdout",
     "output_type": "stream",
     "text": [
      "The Original array is :\t [1, 2, 3, 4, 5, 6, 7, 8, 9, 10]\n",
      "\n",
      "The Reversed array is :\t [10, 9, 8, 7, 6, 5, 4, 3, 2, 1]\n"
     ]
    }
   ],
   "source": [
    "def reverse_list1(arr):\n",
    "    end = len(arr)-1\n",
    "    limit = int(end/2) + 1\n",
    "    for i in range(limit):\n",
    "        arr[i],arr[end] = arr[end],arr[i]\n",
    "        end = end - 1\n",
    "    return arr\n",
    "\n",
    "before_reverse = [1,2,3,4,5,6,7,8,9,10]\n",
    "print('The Original array is :\\t',before_reverse)\n",
    "\n",
    "reversed_arr = reverse_list1(before_reverse )\n",
    "print('\\nThe Reversed array is :\\t',reversed_arr)"
   ]
  },
  {
   "cell_type": "code",
   "execution_count": 21,
   "metadata": {},
   "outputs": [
    {
     "name": "stdout",
     "output_type": "stream",
     "text": [
      "The Original array is :\t [1, 2, 3, 4, 5, 6, 7, 8, 9, 10]\n",
      "\n",
      "The Reversed array is :\t [10, 9, 8, 7, 6, 5, 4, 3, 2, 1]\n"
     ]
    }
   ],
   "source": [
    "def reverse_list2(arr):\n",
    "    left = 0\n",
    "    right = len(arr) - 1\n",
    "    while left < right:\n",
    "        arr[left], arr[right] = arr[right], arr[left]\n",
    "        left += 1\n",
    "        right -= 1\n",
    "    return arr\n",
    "\n",
    "before_reverse = [1,2,3,4,5,6,7,8,9,10]\n",
    "print('The Original array is :\\t',before_reverse)\n",
    "\n",
    "reversed_arr = reverse_list2(before_reverse )\n",
    "print('\\nThe Reversed array is :\\t',reversed_arr)"
   ]
  },
  {
   "cell_type": "code",
   "execution_count": 22,
   "metadata": {},
   "outputs": [
    {
     "name": "stdout",
     "output_type": "stream",
     "text": [
      "The Original array is :\t [1, 2, 3, 4, 5, 6, 7, 8, 9, 10]\n",
      "\n",
      "The Reversed array is :\t [10, 9, 8, 7, 6, 5, 4, 3, 2, 1]\n"
     ]
    }
   ],
   "source": [
    "def reverse_list3(arr):\n",
    "    return [arr[-i] for i in range(1, len(arr) + 1)]\n",
    "\n",
    "before_reverse = [1,2,3,4,5,6,7,8,9,10]\n",
    "print('The Original array is :\\t',before_reverse)\n",
    "\n",
    "reversed_arr = reverse_list3(before_reverse )\n",
    "print('\\nThe Reversed array is :\\t',reversed_arr)"
   ]
  },
  {
   "cell_type": "markdown",
   "metadata": {},
   "source": [
    "## using loops to iterate through nested dictionary/list python"
   ]
  },
  {
   "cell_type": "code",
   "execution_count": 24,
   "metadata": {},
   "outputs": [],
   "source": [
    "details = {\n",
    "            'ID 1':    {'Name': 'Shaun', 'Age': 35, 'City': 'Delhi'},\n",
    "            'ID 2':    {'Name': 'Ritika', 'Age': 31, 'City': 'Mumbai'},\n",
    "            'ID 3':    {'Name': 'Smriti', 'Age': 33, 'City': 'Sydney'},\n",
    "            'ID 4':    {'Name': 'Jacob', 'Age': 23, 'City': {'perm': 'Tokyo',\n",
    "                                                             'current': 'London'}}\n",
    "}"
   ]
  },
  {
   "cell_type": "code",
   "execution_count": 28,
   "metadata": {},
   "outputs": [
    {
     "name": "stdout",
     "output_type": "stream",
     "text": [
      "Iterating over Nested Dict:\n",
      "\n",
      " ('ID 1', 'Name', 'Shaun')\n",
      "\n",
      " ('ID 1', 'Age', 35)\n",
      "\n",
      " ('ID 1', 'City', 'Delhi')\n",
      "\n",
      " ('ID 2', 'Name', 'Ritika')\n",
      "\n",
      " ('ID 2', 'Age', 31)\n",
      "\n",
      " ('ID 2', 'City', 'Mumbai')\n",
      "\n",
      " ('ID 3', 'Name', 'Smriti')\n",
      "\n",
      " ('ID 3', 'Age', 33)\n",
      "\n",
      " ('ID 3', 'City', 'Sydney')\n",
      "\n",
      " ('ID 4', 'Name', 'Jacob')\n",
      "\n",
      " ('ID 4', 'Age', 23)\n",
      "\n",
      " ('ID 4', 'City', 'perm', 'Tokyo')\n",
      "\n",
      " ('ID 4', 'City', 'current', 'London')\n"
     ]
    }
   ],
   "source": [
    "def nested_loop_dict(obj):\n",
    "    # Iterate over all key-value pairs of dict argument\n",
    "    for key, value in obj.items():\n",
    "        # Check if value is of dict type\n",
    "        if isinstance(value, dict):\n",
    "            # If value is dict then iterate over all its values\n",
    "            for pair in  nested_loop_dict(value):\n",
    "                yield (key, *pair)\n",
    "        else:\n",
    "            # If value is not dict type then yield the value\n",
    "            yield (key, value)\n",
    "#Loop through all key-value pairs of a nested dictionary\n",
    "print('Iterating over Nested Dict:')\n",
    "for pair in nested_loop_dict(details):\n",
    "    print('\\n',pair)"
   ]
  },
  {
   "cell_type": "code",
   "execution_count": 32,
   "metadata": {},
   "outputs": [
    {
     "name": "stdout",
     "output_type": "stream",
     "text": [
      "\n",
      "ID: 1\n",
      "Name: John\n",
      "Age: 27\n",
      "Sex: Male\n",
      "\n",
      "ID: 2\n",
      "Name: Marie\n",
      "Age: 22\n",
      "Sex: Female\n"
     ]
    }
   ],
   "source": [
    "people = {1: {'Name': 'John', 'Age': '27', 'Sex': 'Male'},\n",
    "        2: {'Name': 'Marie', 'Age': '22', 'Sex': 'Female'}}\n",
    "\n",
    "for p_id, info in people.items():\n",
    "    print(\"\\nID:\", p_id)\n",
    "    for key in info:\n",
    "        print(key + ':', info[key])"
   ]
  },
  {
   "cell_type": "code",
   "execution_count": 33,
   "metadata": {},
   "outputs": [],
   "source": [
    "rhymes = [['cat', 'hat', 'fat'], ['mouse', 'house', 'louse'], ['be', 'see', 'key', 'he']]"
   ]
  },
  {
   "cell_type": "code",
   "execution_count": 36,
   "metadata": {},
   "outputs": [
    {
     "name": "stdout",
     "output_type": "stream",
     "text": [
      "Iterating over Nested List:\n",
      "\n",
      " cat\n",
      "\n",
      " hat\n",
      "\n",
      " fat\n",
      "\n",
      " mouse\n",
      "\n",
      " house\n",
      "\n",
      " louse\n",
      "\n",
      " be\n",
      "\n",
      " see\n",
      "\n",
      " key\n",
      "\n",
      " he\n"
     ]
    }
   ],
   "source": [
    "def nested_loop_list(obj):\n",
    "    for value in obj:\n",
    "        # Check if value is of list type\n",
    "            if isinstance(value, list):\n",
    "            # If value is list then iterate over all its values\n",
    "                nested_loop_list(value)\n",
    "            else:\n",
    "            # If value is not list type then print the value\n",
    "                print('\\n',value)\n",
    "                \n",
    "#Loop through all values of a nested list\n",
    "print('Iterating over Nested List:')\n",
    "nested_loop_list(rhymes)"
   ]
  },
  {
   "cell_type": "markdown",
   "metadata": {},
   "source": [
    "## concatenate 2 arrays"
   ]
  },
  {
   "cell_type": "code",
   "execution_count": 37,
   "metadata": {},
   "outputs": [
    {
     "name": "stdout",
     "output_type": "stream",
     "text": [
      "concatenating 2 arrays : \n",
      " [[1 2]\n",
      " [3 4]\n",
      " [5 6]]\n"
     ]
    }
   ],
   "source": [
    "a = np.array([[1, 2], [3, 4]])\n",
    "\n",
    "b = np.array([[5, 6]])\n",
    "\n",
    "print('concatenating 2 arrays : \\n',np.concatenate((a, b), axis=0))"
   ]
  },
  {
   "cell_type": "code",
   "execution_count": 38,
   "metadata": {},
   "outputs": [
    {
     "name": "stdout",
     "output_type": "stream",
     "text": [
      "concatenating 2 arrays : \n",
      " [[1 2 5 6]\n",
      " [3 4 7 8]]\n"
     ]
    }
   ],
   "source": [
    "a = np.array([[1, 2], [3, 4]])\n",
    "\n",
    "b = np.array([[5, 6],[7,8]])\n",
    "\n",
    "print('concatenating 2 arrays : \\n',np.concatenate((a, b), axis=1))"
   ]
  },
  {
   "cell_type": "code",
   "execution_count": 39,
   "metadata": {},
   "outputs": [
    {
     "name": "stdout",
     "output_type": "stream",
     "text": [
      "concatenating 2 arrays : \n",
      " [[1 4]\n",
      " [2 5]\n",
      " [3 6]]\n"
     ]
    }
   ],
   "source": [
    "arr1 = np.array([1, 2, 3])\n",
    "\n",
    "arr2 = np.array([4, 5, 6])\n",
    "\n",
    "arr = np.stack((arr1, arr2), axis=1)\n",
    "print('concatenating 2 arrays : \\n',arr)"
   ]
  },
  {
   "cell_type": "code",
   "execution_count": 47,
   "metadata": {},
   "outputs": [
    {
     "name": "stdout",
     "output_type": "stream",
     "text": [
      "Concatenated list :  [1, 4, 5, 6, 5, 3, 5, 7, 2, 5]\n"
     ]
    }
   ],
   "source": [
    "list1 = [1, 4, 5, 6, 5]\n",
    "list2 = [3, 5, 7, 2, 5]\n",
    "\n",
    "for i in list2 :\n",
    "    list1.append(i)\n",
    "\n",
    "print (\"Concatenated list : \" ,list1)"
   ]
  },
  {
   "cell_type": "code",
   "execution_count": 45,
   "metadata": {},
   "outputs": [
    {
     "name": "stdout",
     "output_type": "stream",
     "text": [
      "Concatenated list :  [1, 4, 5, 6, 5, 3, 5, 7, 2, 5]\n"
     ]
    }
   ],
   "source": [
    "list3 = [1, 4, 5, 6, 5]\n",
    "list4 = [3, 5, 7, 2, 5]\n",
    "  \n",
    "# using + operator to concat\n",
    "list3 = list3 + list4\n",
    "  \n",
    "# Printing concatenated list\n",
    "print (\"Concatenated list : \" ,list3)"
   ]
  },
  {
   "cell_type": "markdown",
   "metadata": {},
   "source": [
    "## sum of digits of a number"
   ]
  },
  {
   "cell_type": "code",
   "execution_count": 50,
   "metadata": {},
   "outputs": [
    {
     "name": "stdout",
     "output_type": "stream",
     "text": [
      "Enter a Number: 2158\n",
      "Sum of the digits:  16\n"
     ]
    }
   ],
   "source": [
    "def sum_Of_Digits(num):\n",
    "    #Initialize sum with 0\n",
    "    sum =0\n",
    "    while num>0:\n",
    "        sum += num%10\n",
    "        num = num//10\n",
    "    return sum\n",
    "    \n",
    "num = int(input(\"Enter a Number: \"))\n",
    "print(\"Sum of the digits: \",sum_Of_Digits(num))"
   ]
  },
  {
   "cell_type": "code",
   "execution_count": 51,
   "metadata": {},
   "outputs": [
    {
     "name": "stdout",
     "output_type": "stream",
     "text": [
      "Enter a Number :5483\n",
      "sum of digits in number :  20\n"
     ]
    }
   ],
   "source": [
    "n=input(\"Enter a Number :\")\n",
    "sum=0\n",
    "for i in range(0,len(n)):\n",
    "    sum=sum+int(n[i])\n",
    "    \n",
    "print(\"sum of digits in number : \", sum)"
   ]
  },
  {
   "cell_type": "code",
   "execution_count": 53,
   "metadata": {},
   "outputs": [
    {
     "name": "stdout",
     "output_type": "stream",
     "text": [
      "Enter a number: 2158\n",
      "sum of digits in number :  16\n"
     ]
    }
   ],
   "source": [
    "def sum_dig(n):\n",
    "    \n",
    "    sum = 0\n",
    "    for num in str(n): \n",
    "        sum += int(num)      \n",
    "    return sum\n",
    "\n",
    "#getting number as input  \n",
    "n = int(input(\"Enter a number: \"))\n",
    "print(\"sum of digits in number : \",sum_dig(n))"
   ]
  },
  {
   "cell_type": "code",
   "execution_count": 55,
   "metadata": {},
   "outputs": [
    {
     "name": "stdout",
     "output_type": "stream",
     "text": [
      "Enter a number: 2158\n",
      "sum of digits in number :  16\n"
     ]
    }
   ],
   "source": [
    "def sum_dig(n):\n",
    "    \n",
    "    sum = 0\n",
    "    for num in n: \n",
    "        sum += int(num)      \n",
    "    return sum\n",
    "\n",
    "#getting string as input   \n",
    "n = input(\"Enter a number: \")\n",
    "print(\"sum of digits in number : \",sum_dig(n))"
   ]
  },
  {
   "cell_type": "code",
   "execution_count": null,
   "metadata": {},
   "outputs": [],
   "source": []
  }
 ],
 "metadata": {
  "kernelspec": {
   "display_name": "Python 3",
   "language": "python",
   "name": "python3"
  },
  "language_info": {
   "codemirror_mode": {
    "name": "ipython",
    "version": 3
   },
   "file_extension": ".py",
   "mimetype": "text/x-python",
   "name": "python",
   "nbconvert_exporter": "python",
   "pygments_lexer": "ipython3",
   "version": "3.8.3"
  }
 },
 "nbformat": 4,
 "nbformat_minor": 4
}
